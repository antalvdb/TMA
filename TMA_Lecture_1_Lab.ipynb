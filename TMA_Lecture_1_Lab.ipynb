{
  "nbformat": 4,
  "nbformat_minor": 0,
  "metadata": {
    "colab": {
      "provenance": [],
      "authorship_tag": "ABX9TyP8TsiPVclbY05ItVHraCjw",
      "include_colab_link": true
    },
    "kernelspec": {
      "name": "python3",
      "display_name": "Python 3"
    },
    "language_info": {
      "name": "python"
    }
  },
  "cells": [
    {
      "cell_type": "markdown",
      "metadata": {
        "id": "view-in-github",
        "colab_type": "text"
      },
      "source": [
        "<a href=\"https://colab.research.google.com/github/antalvdb/TMA/blob/main/TMA_Lecture_1_Lab.ipynb\" target=\"_parent\"><img src=\"https://colab.research.google.com/assets/colab-badge.svg\" alt=\"Open In Colab\"/></a>"
      ]
    },
    {
      "cell_type": "markdown",
      "source": [
        "# Text and Media Analytics\n",
        "\n",
        "Lecture 1 Lab\n",
        "\n",
        "This is the Google Colab notebook accompanying the first lecture of the Applied Data Science *Text and Media Analytics* course at Utrecht University. It exemplifies some easy-to-achieve text analytics steps that could also be performed on the commandline."
      ],
      "metadata": {
        "id": "QvdXZ3xFxmG8"
      }
    }
  ]
}