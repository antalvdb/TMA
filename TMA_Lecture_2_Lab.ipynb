{
  "nbformat": 4,
  "nbformat_minor": 0,
  "metadata": {
    "colab": {
      "provenance": [],
      "authorship_tag": "ABX9TyP9HcwvyRSKvubmaEMIcsKO",
      "include_colab_link": true
    },
    "kernelspec": {
      "name": "python3",
      "display_name": "Python 3"
    },
    "language_info": {
      "name": "python"
    }
  },
  "cells": [
    {
      "cell_type": "markdown",
      "metadata": {
        "id": "view-in-github",
        "colab_type": "text"
      },
      "source": [
        "<a href=\"https://colab.research.google.com/github/antalvdb/TMA/blob/main/TMA_Lecture_2_Lab.ipynb\" target=\"_parent\"><img src=\"https://colab.research.google.com/assets/colab-badge.svg\" alt=\"Open In Colab\"/></a>"
      ]
    },
    {
      "cell_type": "markdown",
      "source": [
        "# Text and Media Analytics\n",
        "Lecture 1 Lab\n",
        "\n",
        "This is the Google Colab notebook accompanying the second lecture of the Applied Data Science Text and Media Analytics course at Utrecht University. It exemplifies\n",
        "\n",
        "\n",
        "1.   Text preprocessing\n",
        "2.   Counting words\n",
        "3.   TF-IDF & K-means\n",
        "4.   Text classification and evaluation\n",
        "\n"
      ],
      "metadata": {
        "id": "jC_JXLnh-0J5"
      }
    },
    {
      "cell_type": "code",
      "source": [],
      "metadata": {
        "id": "FWSnG-gG_Yq-"
      },
      "execution_count": null,
      "outputs": []
    }
  ]
}