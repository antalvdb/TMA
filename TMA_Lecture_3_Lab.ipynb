{
  "nbformat": 4,
  "nbformat_minor": 0,
  "metadata": {
    "colab": {
      "provenance": [],
      "authorship_tag": "ABX9TyOBzIWaxLMyDAv3F0OMX/It",
      "include_colab_link": true
    },
    "kernelspec": {
      "name": "python3",
      "display_name": "Python 3"
    },
    "language_info": {
      "name": "python"
    }
  },
  "cells": [
    {
      "cell_type": "markdown",
      "metadata": {
        "id": "view-in-github",
        "colab_type": "text"
      },
      "source": [
        "<a href=\"https://colab.research.google.com/github/antalvdb/TMA/blob/main/TMA_Lecture_3_Lab.ipynb\" target=\"_parent\"><img src=\"https://colab.research.google.com/assets/colab-badge.svg\" alt=\"Open In Colab\"/></a>"
      ]
    },
    {
      "cell_type": "markdown",
      "source": [
        "# Text and Media Analytics\n",
        "Lecture 3 Lab\n",
        "\n",
        "This is the Google Colab notebook accompanying the third lecture of the Applied Data Science Text and Media Analytics course at Utrecht University. It exemplifies\n",
        "\n",
        "1. Topic modeling\n",
        "2. Word2Vec\n",
        "3. Logistic Regression\n",
        "4. BERT, BART, GPT\n",
        "5. Annotating data\n"
      ],
      "metadata": {
        "id": "h4D_Jhb3AEnc"
      }
    },
    {
      "cell_type": "code",
      "source": [],
      "metadata": {
        "id": "Lg6b9F0WAcfr"
      },
      "execution_count": null,
      "outputs": []
    }
  ]
}